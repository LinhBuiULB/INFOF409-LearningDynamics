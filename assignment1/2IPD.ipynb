{
 "cells": [
  {
   "cell_type": "markdown",
   "metadata": {},
   "source": [
    "# Evolutionary Dynamics in finite populations"
   ]
  },
  {
   "cell_type": "code",
   "execution_count": 1,
   "metadata": {
    "collapsed": true
   },
   "outputs": [],
   "source": [
    "import os\n",
    "import sys, getopt\n",
    "import numpy as np\n",
    "import networkx as nx\n",
    "\n",
    "import matplotlib.pyplot as plt\n",
    "\n",
    "# Magic function to make matplotlib inline; other style specs must come AFTER\n",
    "%matplotlib inline\n",
    "\n",
    "# This enables SVG graphics inline.  There is a bug, so uncomment if it works.\n",
    "# %config InlineBackend.figure_formats = {'svg',}\n",
    "\n",
    "# This enables high resolution PNGs. SVG is preferred, but has problems\n",
    "# rendering vertical and horizontal lines\n",
    "%config InlineBackend.figure_formats = {'png', 'retina'}\n",
    "\n",
    "import warnings\n",
    "warnings.filterwarnings('ignore')"
   ]
  },
  {
   "cell_type": "markdown",
   "metadata": {},
   "source": [
    "This Jupyter notebook contains the code for producing the finite population dynamics of the iterated prisoners dilemma.  As a first step a number of global variables are defined. "
   ]
  },
  {
   "cell_type": "code",
   "execution_count": 2,
   "metadata": {
    "collapsed": true
   },
   "outputs": [],
   "source": [
    "Z=50       # Population size\n",
    "T=5.        # Temptation to defect\n",
    "R=3.        # Reward for mutual cooperation\n",
    "P=1.        # Punishment for mutual defection\n",
    "S=0.        # Suckers payoff for unilateral cooperation\n",
    "q=4         # Number of strategies\n",
    "rounds=10   # Number of rounds\n",
    "drift=1.0/Z # Random drift between strategies\n",
    "beta=0.01   # Intensity of selection"
   ]
  },
  {
   "cell_type": "markdown",
   "metadata": {},
   "source": [
    "Define here the label for each strategy and their payoff. You must **calculate yourself** the payoffs of each h when facing another q in a population of k individuals of strategy h and Z-k individuals of strategy q."
   ]
  },
  {
   "cell_type": "code",
   "execution_count": 4,
   "metadata": {},
   "outputs": [
    {
     "ename": "SyntaxError",
     "evalue": "invalid syntax (<ipython-input-4-4e5923c0317e>, line 4)",
     "output_type": "error",
     "traceback": [
      "\u001b[0;36m  File \u001b[0;32m\"<ipython-input-4-4e5923c0317e>\"\u001b[0;36m, line \u001b[0;32m4\u001b[0m\n\u001b[0;31m    payoff=np.array([lambda k: , # Here C vs C\u001b[0m\n\u001b[0m                               ^\u001b[0m\n\u001b[0;31mSyntaxError\u001b[0m\u001b[0;31m:\u001b[0m invalid syntax\n"
     ]
    }
   ],
   "source": [
    "# Strategy labels\n",
    "strats=['C','D', 'TFT', 'RANDOM'] # 1, 2, 3, 4\n",
    "# Payoffs of each strategy when facing each other (order: 11, 12, 13, 14, 21...)\n",
    "payoff=np.array([lambda k: , # Here C vs C\n",
    "                 lambda k: , # Here C vs D\n",
    "                 lambda k: , # Here C vs TFT\n",
    "                 lambda k: , # Here C vs RANDOM\n",
    "                 lambda k: , # Here D vs C\n",
    "                 lambda k: , # Here D vs D\n",
    "                 lambda k: , # Here D vs TFT\n",
    "                 lambda k: , # Here D vs RANDOM\n",
    "                 lambda k: , # Here TFT vs C\n",
    "                 lambda k: , # Here TFT vs D\n",
    "                 lambda k: , # Here TFT vs TFT\n",
    "                 lambda k: , # Here TFT vs RANDOM\n",
    "                 lambda k: , # Here RANDOM vs C\n",
    "                 lambda k: , # Here RANDOM vs D\n",
    "                 lambda k: , # Here RANDOM vs TFT\n",
    "                 lambda k:   # Here RANDOM vs RANDOM\n",
    "                ]).reshape(q,q)"
   ]
  },
  {
   "cell_type": "markdown",
   "metadata": {},
   "source": [
    "Using these global variables one can now calculate the fixation probabilities (assuming the small mutation limit).  A number of helper functions are defined "
   ]
  },
  {
   "cell_type": "code",
   "execution_count": 5,
   "metadata": {
    "collapsed": true
   },
   "outputs": [],
   "source": [
    "def fitness(k,invader, resident):\n",
    "    '''\n",
    "    The fitness function determines the average payoff of k invaders and Z-k residents\n",
    "    in the popiulation of N players. \n",
    "    '''\n",
    "    resultA=(((k-1)*payoff[invader][invader](k))+((Z-k)*payoff[invader, resident](Z-k)))/float(Z-1)\n",
    "    resultB=((k*payoff[resident][invader](k))+((Z-k-1)*payoff[resident, resident](Z-k)))/float(Z-1)\n",
    "    return [resultA, resultB]\n",
    "\n",
    "def fermifunc(b,first, second):\n",
    "    '''\n",
    "    The fermi function determines the probability that the first type imitates the second\n",
    "    '''\n",
    "    return 1./(1. + np.exp(-b*(first-second)))\n",
    "\n",
    "def probIncreaseDecrease(k, invader, resident):\n",
    "    '''\n",
    "    This function calculates for a give number of invaders the probability \n",
    "    that the number increases or decreases with one. \n",
    "    '''\n",
    "    fitvalue=fitness(k, invader, resident)\n",
    "    increase=np.clip(((Z-k)/float(Z))*(k/float(Z))*fermifunc(-beta, fitvalue[1],fitvalue[0]), 0., 1.)\n",
    "    decrease=np.clip(((Z-k)/float(Z))*(k/float(Z))*fermifunc(beta, fitvalue[1],fitvalue[0]), 0., 1.)\n",
    "    return [increase,decrease]\n",
    "\n",
    "def fixation(invader, resident):\n",
    "    '''\n",
    "    function for calculating the fixation probability of the invader \n",
    "    in a population of residents\n",
    "    '''\n",
    "    result=0.\n",
    "    for i in range(1,Z):\n",
    "        sub=1.\n",
    "        for j in range(1,i+1):\n",
    "            tmp=probIncreaseDecrease(j,invader, resident)\n",
    "            dd = np.clip(tmp[1]/float(tmp[0]), 0., 1.)\n",
    "            if dd < np.finfo(np.float).eps:\n",
    "                dd = 0\n",
    "            sub*=dd\n",
    "        result += sub\n",
    "    # To avoid over and underflow\n",
    "    return 1./(1. + result)\n",
    "\n",
    "def transition_and_fixprob_matrix():\n",
    "    transitions=np.zeros((q,q))\n",
    "    fixprobs=np.zeros((q,q))\n",
    "    for first in range(q):\n",
    "        transitions[first,first]=1.\n",
    "        for second in range(q) :\n",
    "            if second != first :\n",
    "                fp=fixation(second, first) \n",
    "                fixprobs[first][second]=(fp/drift)\n",
    "                transitions[first][second]=fp/float(q-1)\n",
    "                transitions[first][first]=transitions[first][first]-(fp/float(q-1))\n",
    "    return [transitions,fixprobs]\n",
    "\n"
   ]
  },
  {
   "cell_type": "markdown",
   "metadata": {},
   "source": [
    "Now we can start calculating the fixation probabilities between all pairs of strategies, which provides the transition matrix of the Markov chain.  Taking the "
   ]
  },
  {
   "cell_type": "code",
   "execution_count": 6,
   "metadata": {},
   "outputs": [
    {
     "ename": "NameError",
     "evalue": "name 'payoff' is not defined",
     "output_type": "error",
     "traceback": [
      "\u001b[0;31m---------------------------------------------------------------------------\u001b[0m",
      "\u001b[0;31mNameError\u001b[0m                                 Traceback (most recent call last)",
      "\u001b[0;32m<ipython-input-6-09f9152af160>\u001b[0m in \u001b[0;36m<module>\u001b[0;34m()\u001b[0m\n\u001b[1;32m      1\u001b[0m \u001b[0;34m\u001b[0m\u001b[0m\n\u001b[0;32m----> 2\u001b[0;31m \u001b[0mt\u001b[0m\u001b[0;34m,\u001b[0m\u001b[0mf\u001b[0m\u001b[0;34m=\u001b[0m\u001b[0mtransition_and_fixprob_matrix\u001b[0m\u001b[0;34m(\u001b[0m\u001b[0;34m)\u001b[0m\u001b[0;34m\u001b[0m\u001b[0m\n\u001b[0m\u001b[1;32m      3\u001b[0m \u001b[0;31m#print f\u001b[0m\u001b[0;34m\u001b[0m\u001b[0;34m\u001b[0m\u001b[0m\n\u001b[1;32m      4\u001b[0m \u001b[0;31m#print t\u001b[0m\u001b[0;34m\u001b[0m\u001b[0;34m\u001b[0m\u001b[0m\n\u001b[1;32m      5\u001b[0m \u001b[0;34m\u001b[0m\u001b[0m\n",
      "\u001b[0;32m<ipython-input-5-431c41ecf858>\u001b[0m in \u001b[0;36mtransition_and_fixprob_matrix\u001b[0;34m()\u001b[0m\n\u001b[1;32m     49\u001b[0m         \u001b[0;32mfor\u001b[0m \u001b[0msecond\u001b[0m \u001b[0;32min\u001b[0m \u001b[0mrange\u001b[0m\u001b[0;34m(\u001b[0m\u001b[0mq\u001b[0m\u001b[0;34m)\u001b[0m \u001b[0;34m:\u001b[0m\u001b[0;34m\u001b[0m\u001b[0m\n\u001b[1;32m     50\u001b[0m             \u001b[0;32mif\u001b[0m \u001b[0msecond\u001b[0m \u001b[0;34m!=\u001b[0m \u001b[0mfirst\u001b[0m \u001b[0;34m:\u001b[0m\u001b[0;34m\u001b[0m\u001b[0m\n\u001b[0;32m---> 51\u001b[0;31m                 \u001b[0mfp\u001b[0m\u001b[0;34m=\u001b[0m\u001b[0mfixation\u001b[0m\u001b[0;34m(\u001b[0m\u001b[0msecond\u001b[0m\u001b[0;34m,\u001b[0m \u001b[0mfirst\u001b[0m\u001b[0;34m)\u001b[0m\u001b[0;34m\u001b[0m\u001b[0m\n\u001b[0m\u001b[1;32m     52\u001b[0m                 \u001b[0mfixprobs\u001b[0m\u001b[0;34m[\u001b[0m\u001b[0mfirst\u001b[0m\u001b[0;34m]\u001b[0m\u001b[0;34m[\u001b[0m\u001b[0msecond\u001b[0m\u001b[0;34m]\u001b[0m\u001b[0;34m=\u001b[0m\u001b[0;34m(\u001b[0m\u001b[0mfp\u001b[0m\u001b[0;34m/\u001b[0m\u001b[0mdrift\u001b[0m\u001b[0;34m)\u001b[0m\u001b[0;34m\u001b[0m\u001b[0m\n\u001b[1;32m     53\u001b[0m                 \u001b[0mtransitions\u001b[0m\u001b[0;34m[\u001b[0m\u001b[0mfirst\u001b[0m\u001b[0;34m]\u001b[0m\u001b[0;34m[\u001b[0m\u001b[0msecond\u001b[0m\u001b[0;34m]\u001b[0m\u001b[0;34m=\u001b[0m\u001b[0mfp\u001b[0m\u001b[0;34m/\u001b[0m\u001b[0mfloat\u001b[0m\u001b[0;34m(\u001b[0m\u001b[0mq\u001b[0m\u001b[0;34m-\u001b[0m\u001b[0;36m1\u001b[0m\u001b[0;34m)\u001b[0m\u001b[0;34m\u001b[0m\u001b[0m\n",
      "\u001b[0;32m<ipython-input-5-431c41ecf858>\u001b[0m in \u001b[0;36mfixation\u001b[0;34m(invader, resident)\u001b[0m\n\u001b[1;32m     33\u001b[0m         \u001b[0msub\u001b[0m\u001b[0;34m=\u001b[0m\u001b[0;36m1.\u001b[0m\u001b[0;34m\u001b[0m\u001b[0m\n\u001b[1;32m     34\u001b[0m         \u001b[0;32mfor\u001b[0m \u001b[0mj\u001b[0m \u001b[0;32min\u001b[0m \u001b[0mrange\u001b[0m\u001b[0;34m(\u001b[0m\u001b[0;36m1\u001b[0m\u001b[0;34m,\u001b[0m\u001b[0mi\u001b[0m\u001b[0;34m+\u001b[0m\u001b[0;36m1\u001b[0m\u001b[0;34m)\u001b[0m\u001b[0;34m:\u001b[0m\u001b[0;34m\u001b[0m\u001b[0m\n\u001b[0;32m---> 35\u001b[0;31m             \u001b[0mtmp\u001b[0m\u001b[0;34m=\u001b[0m\u001b[0mprobIncreaseDecrease\u001b[0m\u001b[0;34m(\u001b[0m\u001b[0mj\u001b[0m\u001b[0;34m,\u001b[0m\u001b[0minvader\u001b[0m\u001b[0;34m,\u001b[0m \u001b[0mresident\u001b[0m\u001b[0;34m)\u001b[0m\u001b[0;34m\u001b[0m\u001b[0m\n\u001b[0m\u001b[1;32m     36\u001b[0m             \u001b[0mdd\u001b[0m \u001b[0;34m=\u001b[0m \u001b[0mnp\u001b[0m\u001b[0;34m.\u001b[0m\u001b[0mclip\u001b[0m\u001b[0;34m(\u001b[0m\u001b[0mtmp\u001b[0m\u001b[0;34m[\u001b[0m\u001b[0;36m1\u001b[0m\u001b[0;34m]\u001b[0m\u001b[0;34m/\u001b[0m\u001b[0mfloat\u001b[0m\u001b[0;34m(\u001b[0m\u001b[0mtmp\u001b[0m\u001b[0;34m[\u001b[0m\u001b[0;36m0\u001b[0m\u001b[0;34m]\u001b[0m\u001b[0;34m)\u001b[0m\u001b[0;34m,\u001b[0m \u001b[0;36m0.\u001b[0m\u001b[0;34m,\u001b[0m \u001b[0;36m1.\u001b[0m\u001b[0;34m)\u001b[0m\u001b[0;34m\u001b[0m\u001b[0m\n\u001b[1;32m     37\u001b[0m             \u001b[0;32mif\u001b[0m \u001b[0mdd\u001b[0m \u001b[0;34m<\u001b[0m \u001b[0mnp\u001b[0m\u001b[0;34m.\u001b[0m\u001b[0mfinfo\u001b[0m\u001b[0;34m(\u001b[0m\u001b[0mnp\u001b[0m\u001b[0;34m.\u001b[0m\u001b[0mfloat\u001b[0m\u001b[0;34m)\u001b[0m\u001b[0;34m.\u001b[0m\u001b[0meps\u001b[0m\u001b[0;34m:\u001b[0m\u001b[0;34m\u001b[0m\u001b[0m\n",
      "\u001b[0;32m<ipython-input-5-431c41ecf858>\u001b[0m in \u001b[0;36mprobIncreaseDecrease\u001b[0;34m(k, invader, resident)\u001b[0m\n\u001b[1;32m     19\u001b[0m     \u001b[0mthat\u001b[0m \u001b[0mthe\u001b[0m \u001b[0mnumber\u001b[0m \u001b[0mincreases\u001b[0m \u001b[0;32mor\u001b[0m \u001b[0mdecreases\u001b[0m \u001b[0;32mwith\u001b[0m \u001b[0mone\u001b[0m\u001b[0;34m.\u001b[0m\u001b[0;34m\u001b[0m\u001b[0m\n\u001b[1;32m     20\u001b[0m     '''\n\u001b[0;32m---> 21\u001b[0;31m     \u001b[0mfitvalue\u001b[0m\u001b[0;34m=\u001b[0m\u001b[0mfitness\u001b[0m\u001b[0;34m(\u001b[0m\u001b[0mk\u001b[0m\u001b[0;34m,\u001b[0m \u001b[0minvader\u001b[0m\u001b[0;34m,\u001b[0m \u001b[0mresident\u001b[0m\u001b[0;34m)\u001b[0m\u001b[0;34m\u001b[0m\u001b[0m\n\u001b[0m\u001b[1;32m     22\u001b[0m     \u001b[0mincrease\u001b[0m\u001b[0;34m=\u001b[0m\u001b[0mnp\u001b[0m\u001b[0;34m.\u001b[0m\u001b[0mclip\u001b[0m\u001b[0;34m(\u001b[0m\u001b[0;34m(\u001b[0m\u001b[0;34m(\u001b[0m\u001b[0mZ\u001b[0m\u001b[0;34m-\u001b[0m\u001b[0mk\u001b[0m\u001b[0;34m)\u001b[0m\u001b[0;34m/\u001b[0m\u001b[0mfloat\u001b[0m\u001b[0;34m(\u001b[0m\u001b[0mZ\u001b[0m\u001b[0;34m)\u001b[0m\u001b[0;34m)\u001b[0m\u001b[0;34m*\u001b[0m\u001b[0;34m(\u001b[0m\u001b[0mk\u001b[0m\u001b[0;34m/\u001b[0m\u001b[0mfloat\u001b[0m\u001b[0;34m(\u001b[0m\u001b[0mZ\u001b[0m\u001b[0;34m)\u001b[0m\u001b[0;34m)\u001b[0m\u001b[0;34m*\u001b[0m\u001b[0mfermifunc\u001b[0m\u001b[0;34m(\u001b[0m\u001b[0;34m-\u001b[0m\u001b[0mbeta\u001b[0m\u001b[0;34m,\u001b[0m \u001b[0mfitvalue\u001b[0m\u001b[0;34m[\u001b[0m\u001b[0;36m1\u001b[0m\u001b[0;34m]\u001b[0m\u001b[0;34m,\u001b[0m\u001b[0mfitvalue\u001b[0m\u001b[0;34m[\u001b[0m\u001b[0;36m0\u001b[0m\u001b[0;34m]\u001b[0m\u001b[0;34m)\u001b[0m\u001b[0;34m,\u001b[0m \u001b[0;36m0.\u001b[0m\u001b[0;34m,\u001b[0m \u001b[0;36m1.\u001b[0m\u001b[0;34m)\u001b[0m\u001b[0;34m\u001b[0m\u001b[0m\n\u001b[1;32m     23\u001b[0m     \u001b[0mdecrease\u001b[0m\u001b[0;34m=\u001b[0m\u001b[0mnp\u001b[0m\u001b[0;34m.\u001b[0m\u001b[0mclip\u001b[0m\u001b[0;34m(\u001b[0m\u001b[0;34m(\u001b[0m\u001b[0;34m(\u001b[0m\u001b[0mZ\u001b[0m\u001b[0;34m-\u001b[0m\u001b[0mk\u001b[0m\u001b[0;34m)\u001b[0m\u001b[0;34m/\u001b[0m\u001b[0mfloat\u001b[0m\u001b[0;34m(\u001b[0m\u001b[0mZ\u001b[0m\u001b[0;34m)\u001b[0m\u001b[0;34m)\u001b[0m\u001b[0;34m*\u001b[0m\u001b[0;34m(\u001b[0m\u001b[0mk\u001b[0m\u001b[0;34m/\u001b[0m\u001b[0mfloat\u001b[0m\u001b[0;34m(\u001b[0m\u001b[0mZ\u001b[0m\u001b[0;34m)\u001b[0m\u001b[0;34m)\u001b[0m\u001b[0;34m*\u001b[0m\u001b[0mfermifunc\u001b[0m\u001b[0;34m(\u001b[0m\u001b[0mbeta\u001b[0m\u001b[0;34m,\u001b[0m \u001b[0mfitvalue\u001b[0m\u001b[0;34m[\u001b[0m\u001b[0;36m1\u001b[0m\u001b[0;34m]\u001b[0m\u001b[0;34m,\u001b[0m\u001b[0mfitvalue\u001b[0m\u001b[0;34m[\u001b[0m\u001b[0;36m0\u001b[0m\u001b[0;34m]\u001b[0m\u001b[0;34m)\u001b[0m\u001b[0;34m,\u001b[0m \u001b[0;36m0.\u001b[0m\u001b[0;34m,\u001b[0m \u001b[0;36m1.\u001b[0m\u001b[0;34m)\u001b[0m\u001b[0;34m\u001b[0m\u001b[0m\n",
      "\u001b[0;32m<ipython-input-5-431c41ecf858>\u001b[0m in \u001b[0;36mfitness\u001b[0;34m(k, invader, resident)\u001b[0m\n\u001b[1;32m      4\u001b[0m     \u001b[0;32min\u001b[0m \u001b[0mthe\u001b[0m \u001b[0mpopiulation\u001b[0m \u001b[0mof\u001b[0m \u001b[0mN\u001b[0m \u001b[0mplayers\u001b[0m\u001b[0;34m.\u001b[0m\u001b[0;34m\u001b[0m\u001b[0m\n\u001b[1;32m      5\u001b[0m     '''\n\u001b[0;32m----> 6\u001b[0;31m     \u001b[0mresultA\u001b[0m\u001b[0;34m=\u001b[0m\u001b[0;34m(\u001b[0m\u001b[0;34m(\u001b[0m\u001b[0;34m(\u001b[0m\u001b[0mk\u001b[0m\u001b[0;34m-\u001b[0m\u001b[0;36m1\u001b[0m\u001b[0;34m)\u001b[0m\u001b[0;34m*\u001b[0m\u001b[0mpayoff\u001b[0m\u001b[0;34m[\u001b[0m\u001b[0minvader\u001b[0m\u001b[0;34m]\u001b[0m\u001b[0;34m[\u001b[0m\u001b[0minvader\u001b[0m\u001b[0;34m]\u001b[0m\u001b[0;34m(\u001b[0m\u001b[0mk\u001b[0m\u001b[0;34m)\u001b[0m\u001b[0;34m)\u001b[0m\u001b[0;34m+\u001b[0m\u001b[0;34m(\u001b[0m\u001b[0;34m(\u001b[0m\u001b[0mZ\u001b[0m\u001b[0;34m-\u001b[0m\u001b[0mk\u001b[0m\u001b[0;34m)\u001b[0m\u001b[0;34m*\u001b[0m\u001b[0mpayoff\u001b[0m\u001b[0;34m[\u001b[0m\u001b[0minvader\u001b[0m\u001b[0;34m,\u001b[0m \u001b[0mresident\u001b[0m\u001b[0;34m]\u001b[0m\u001b[0;34m(\u001b[0m\u001b[0mZ\u001b[0m\u001b[0;34m-\u001b[0m\u001b[0mk\u001b[0m\u001b[0;34m)\u001b[0m\u001b[0;34m)\u001b[0m\u001b[0;34m)\u001b[0m\u001b[0;34m/\u001b[0m\u001b[0mfloat\u001b[0m\u001b[0;34m(\u001b[0m\u001b[0mZ\u001b[0m\u001b[0;34m-\u001b[0m\u001b[0;36m1\u001b[0m\u001b[0;34m)\u001b[0m\u001b[0;34m\u001b[0m\u001b[0m\n\u001b[0m\u001b[1;32m      7\u001b[0m     \u001b[0mresultB\u001b[0m\u001b[0;34m=\u001b[0m\u001b[0;34m(\u001b[0m\u001b[0;34m(\u001b[0m\u001b[0mk\u001b[0m\u001b[0;34m*\u001b[0m\u001b[0mpayoff\u001b[0m\u001b[0;34m[\u001b[0m\u001b[0mresident\u001b[0m\u001b[0;34m]\u001b[0m\u001b[0;34m[\u001b[0m\u001b[0minvader\u001b[0m\u001b[0;34m]\u001b[0m\u001b[0;34m(\u001b[0m\u001b[0mk\u001b[0m\u001b[0;34m)\u001b[0m\u001b[0;34m)\u001b[0m\u001b[0;34m+\u001b[0m\u001b[0;34m(\u001b[0m\u001b[0;34m(\u001b[0m\u001b[0mZ\u001b[0m\u001b[0;34m-\u001b[0m\u001b[0mk\u001b[0m\u001b[0;34m-\u001b[0m\u001b[0;36m1\u001b[0m\u001b[0;34m)\u001b[0m\u001b[0;34m*\u001b[0m\u001b[0mpayoff\u001b[0m\u001b[0;34m[\u001b[0m\u001b[0mresident\u001b[0m\u001b[0;34m,\u001b[0m \u001b[0mresident\u001b[0m\u001b[0;34m]\u001b[0m\u001b[0;34m(\u001b[0m\u001b[0mZ\u001b[0m\u001b[0;34m-\u001b[0m\u001b[0mk\u001b[0m\u001b[0;34m)\u001b[0m\u001b[0;34m)\u001b[0m\u001b[0;34m)\u001b[0m\u001b[0;34m/\u001b[0m\u001b[0mfloat\u001b[0m\u001b[0;34m(\u001b[0m\u001b[0mZ\u001b[0m\u001b[0;34m-\u001b[0m\u001b[0;36m1\u001b[0m\u001b[0;34m)\u001b[0m\u001b[0;34m\u001b[0m\u001b[0m\n\u001b[1;32m      8\u001b[0m     \u001b[0;32mreturn\u001b[0m \u001b[0;34m[\u001b[0m\u001b[0mresultA\u001b[0m\u001b[0;34m,\u001b[0m \u001b[0mresultB\u001b[0m\u001b[0;34m]\u001b[0m\u001b[0;34m\u001b[0m\u001b[0m\n",
      "\u001b[0;31mNameError\u001b[0m: name 'payoff' is not defined"
     ]
    }
   ],
   "source": [
    "\n",
    "t,f=transition_and_fixprob_matrix()\n",
    "#print f\n",
    "#print t\n",
    "\n",
    "#calculate stationary distributions using eigenvalues and eigenvectors\n",
    "w,v=np.linalg.eig(t.transpose())\n",
    "j_stationary=np.argmin(abs(w-1.0)) #look for the element closest to 1 in the list of eigenvalues\n",
    "p_stationary=abs(v[:,j_stationary].real) # the, is essential to access the matrix by column\n",
    "p_stationary /= p_stationary.sum() #normalize\n",
    "\n",
    "print (\"transition probabilities (1st %s, 2nd %s, 3rd %s, 4th %s and read as row invading column) \\n %s\\n\" %(*[i for i in strats],f))\n",
    "print (\"stationary distribution (1st %s, 2nd %s, 3rd %s, 4th %s) \\n %s\" %(*[i for i in strats], p_stationary))\n"
   ]
  },
  {
   "cell_type": "markdown",
   "metadata": {
    "collapsed": true
   },
   "source": [
    "Now let's see how the stationary distributions change as a function of beta."
   ]
  },
  {
   "cell_type": "code",
   "execution_count": null,
   "metadata": {
    "collapsed": true
   },
   "outputs": [],
   "source": [
    "distribution=[]\n",
    "betas=[0.00001,0.0001, 0.001, 0.01, 0.1, 1.0, 10.0, 100.0]\n",
    "for beta in betas:\n",
    "    t,f=transition_and_fixprob_matrix()\n",
    "    w,v=np.linalg.eig(t.transpose())\n",
    "    j_stationary=np.argmin(abs(w-1.0)) \n",
    "    p_stationary=abs(v[:,j_stationary].real) \n",
    "    p_stationary /= p_stationary.sum()\n",
    "    distribution.append(p_stationary)\n",
    "\n",
    "darray=np.asarray(distribution)\n",
    "\n",
    "fig = plt.figure(figsize=(10, 7), dpi=150)\n",
    "lines=plt.plot(betas,darray[:,0],'bo-',\n",
    "               betas,darray[:,1],'rv-', \n",
    "               betas,darray[:,2],'gx-',\n",
    "               betas,darray[:,2],'y+-')\n",
    "plt.rc(\"font\", size=14)\n",
    "plt.xscale('log')\n",
    "plt.setp(lines, linewidth=2.0)\n",
    "plt.ylabel('Stationary distribution',size=16)\n",
    "plt.xlabel('selection strength'+r'($\\beta$)',size=16)\n",
    "plt.ylim(-0.05,1.05)\n",
    "plt.legend(strats)\n",
    "plt.show()"
   ]
  },
  {
   "cell_type": "markdown",
   "metadata": {
    "collapsed": true
   },
   "source": [
    "So now lets look at the gradient of selection g(x): determine for different combinations of cooperators and defectors the difference between T+ and T-. Test how the gradient varies for different beta values."
   ]
  },
  {
   "cell_type": "code",
   "execution_count": null,
   "metadata": {
    "collapsed": true,
    "scrolled": false
   },
   "outputs": [],
   "source": [
    "gradients=[]\n",
    "coop_levels=np.arange(0,105,5)\n",
    "beta=0.01\n",
    "for coop in coop_levels:\n",
    "    Tp,Tm=probIncreaseDecrease(coop,2,1)\n",
    "    gradients.append(Tp-Tm)\n",
    "\n",
    "garray=np.asarray(gradients)\n",
    "figg = plt.figure(figsize=(10, 7), dpi=150)\n",
    "lines=plt.plot(coop_levels,garray,'-')\n",
    "plt.rc(\"font\", size=14)\n",
    "plt.setp(lines, linewidth=2.0)\n",
    "plt.ylabel('Gradient of Selection',size=16)\n",
    "plt.xlabel('Percentage of Cooperation',size=16)\n",
    "plt.ylim(-0.5,0.5)\n",
    "plt.show()"
   ]
  },
  {
   "cell_type": "markdown",
   "metadata": {},
   "source": [
    "### Plot stationary distributions as a graph"
   ]
  },
  {
   "cell_type": "code",
   "execution_count": null,
   "metadata": {
    "collapsed": true
   },
   "outputs": [],
   "source": [
    "G=nx.DiGraph()\n",
    "G.add_nodes_from(strats)\n",
    "ncolors=['yellow','green','red','cyan']\n",
    "beta = 0.01\n",
    "for j in range(q):\n",
    "    for i in range(q):\n",
    "        if f[i,j] >= drift:\n",
    "            G.add_edge(strats[i],strats[j],weight=f[i,j])\n",
    "\n",
    "\n",
    "eselect=[(u,v) for (u,v,d) in G.edges(data=True) if d['weight'] >1.0]\n",
    "eselect_labels=dict(((u,v),float(\"{0:.2f}\".format(d['weight']))) \n",
    "                    for (u,v,d) in G.edges(data=True) if d['weight'] >1.0)\n",
    "edrift=[(u,v) for (u,v,d) in G.edges(data=True) if d['weight'] ==1.0]\n",
    "\n",
    "fig = plt.figure(figsize=(10, 10), dpi=150)\n",
    "\n",
    "\n",
    "pos=nx.circular_layout(G) # positions for all nodes\n",
    "\n",
    "# nodes\n",
    "nx.draw_networkx_nodes(G,pos,node_size=4000,node_color=ncolors,with_labels=True)\n",
    "\n",
    "# edges\n",
    "nx.draw_networkx_edges(G,pos,edgelist=eselect,\n",
    "                       edge_labels=eselect_labels,width=2,with_labels=True)\n",
    "nx.draw_networkx_edges(G,pos,edgelist=edrift,\n",
    "                       width=2,alpha=0.5,style='dashed',arrows=False)\n",
    "\n",
    "# node labels\n",
    "nx.draw_networkx_labels(G,pos,{'C':'C','RANDOM': 'RANDOM'},\n",
    "                        font_size=18,font_weight='bold',font_color='black')\n",
    "nx.draw_networkx_labels(G,pos,{'TFT':'TFT','D':'D'},\n",
    "                        font_size=18,font_weight='bold',font_color='white')\n",
    "\n",
    "#edge labels\n",
    "nx.draw_networkx_edge_labels(G,pos,edge_labels=eselect_labels,font_size=14)\n",
    "\n",
    "plt.axis('off')\n",
    "plt.show() # display\n",
    "\n",
    "\n",
    "#ONE ERROR REMAINS --- FAKE should be black and FREE should by cyan \n",
    "#node should contain value of stationary distribution"
   ]
  },
  {
   "cell_type": "code",
   "execution_count": null,
   "metadata": {
    "collapsed": true
   },
   "outputs": [],
   "source": []
  }
 ],
 "metadata": {
  "anaconda-cloud": {},
  "kernelspec": {
   "display_name": "Python 3",
   "language": "python",
   "name": "python3"
  },
  "language_info": {
   "codemirror_mode": {
    "name": "ipython",
    "version": 3
   },
   "file_extension": ".py",
   "mimetype": "text/x-python",
   "name": "python",
   "nbconvert_exporter": "python",
   "pygments_lexer": "ipython3",
   "version": "3.6.1"
  }
 },
 "nbformat": 4,
 "nbformat_minor": 1
}
